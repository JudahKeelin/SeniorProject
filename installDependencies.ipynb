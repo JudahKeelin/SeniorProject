{
 "cells": [
  {
   "cell_type": "code",
   "execution_count": null,
   "id": "18a5389f",
   "metadata": {},
   "outputs": [],
   "source": [
    "# Data Manipulation\n",
    "%pip install pandas numpy\n",
    "\n",
    "# Machine Learning\n",
    "%pip install scikit-learn imbalanced-learn xgboost joblib\n",
    "\n",
    "# Deep Learning\n",
    "%pip install torch torchvision torchaudio\n",
    "\n",
    "# Audio Processing\n",
    "%pip install librosa parselmouth opensmile\n",
    "\n",
    "# Visualization\n",
    "%pip install matplotlib seaborn\n",
    "\n",
    "# Miscellaneous\n",
    "%pip install tqdm"
   ]
  }
 ],
 "metadata": {
  "language_info": {
   "name": "python"
  }
 },
 "nbformat": 4,
 "nbformat_minor": 5
}
