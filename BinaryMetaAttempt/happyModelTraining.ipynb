{
 "cells": [
  {
   "cell_type": "code",
   "execution_count": 136,
   "id": "2dbd7cfa",
   "metadata": {},
   "outputs": [],
   "source": [
    "import numpy as np\n",
    "import pandas as pd\n",
    "import joblib\n",
    "\n",
    "import matplotlib.pyplot as plt\n",
    "import seaborn as sns\n",
    "\n",
    "from sklearn.preprocessing import StandardScaler\n",
    "from sklearn.feature_selection import SelectKBest, mutual_info_classif, SelectFromModel\n",
    "from sklearn.linear_model import LogisticRegression\n",
    "from sklearn.pipeline import Pipeline\n",
    "from sklearn.model_selection import GridSearchCV, train_test_split\n",
    "from sklearn.metrics import confusion_matrix, classification_report, make_scorer, f1_score\n",
    "from imblearn.over_sampling import SMOTE\n",
    "from sklearn.compose import ColumnTransformer\n",
    "from sklearn.ensemble import ExtraTreesClassifier\n",
    "from sklearn.svm import SVC\n",
    "from sklearn.ensemble import RandomForestClassifier\n",
    "from sklearn.utils.class_weight import compute_class_weight\n",
    "from sklearn.neural_network import MLPClassifier\n",
    "from sklearn.model_selection import GridSearchCV\n",
    "from sklearn.neighbors import KNeighborsClassifier\n",
    "from sklearn.inspection import permutation_importance\n",
    "from sklearn.ensemble import StackingClassifier\n",
    "\n",
    "from xgboost import XGBClassifier"
   ]
  },
  {
   "cell_type": "code",
   "execution_count": 137,
   "id": "f25d0c11",
   "metadata": {},
   "outputs": [],
   "source": [
    "x_train = pd.read_csv('x_train_openSmile_emobase.csv')\n",
    "y_train = pd.read_csv('y_train_openSmile_emobase.csv')\n",
    "x_test = pd.read_csv('x_test_openSmile_emobase.csv')\n",
    "y_test = pd.read_csv('y_test_openSmile_emobase.csv')\n",
    "\n",
    "y_test['emotion'] = np.where(y_test['emotion'] == 'happy', 1, 0)\n",
    "y_train['emotion'] = np.where(y_train['emotion'] == 'happy', 1, 0)"
   ]
  },
  {
   "cell_type": "code",
   "execution_count": 162,
   "id": "963e96a1",
   "metadata": {},
   "outputs": [],
   "source": [
    "etc = ExtraTreesClassifier(\n",
    "    n_estimators=200,\n",
    "    random_state=42,\n",
    "    n_jobs=-1\n",
    ")\n",
    "\n",
    "etc.fit(x_train, y_train[\"emotion\"])\n",
    "\n",
    "importances = etc.feature_importances_\n",
    "\n",
    "sorted_importances = np.sort(importances)[::-1]\n",
    "cumulative_importances = np.cumsum(sorted_importances)\n",
    "threshold_index = np.searchsorted(cumulative_importances, 0.6) # 55 6 9\n",
    "threshold_value = sorted_importances[threshold_index]\n",
    "\n",
    "selector_model = SelectFromModel(etc, threshold=threshold_value, prefit=True)\n",
    "\n",
    "selected_features = x_train.columns[selector_model.get_support()]\n"
   ]
  },
  {
   "cell_type": "code",
   "execution_count": 163,
   "id": "38b0bde5",
   "metadata": {},
   "outputs": [
    {
     "name": "stdout",
     "output_type": "stream",
     "text": [
      "=== SVC Classification Report ===\n",
      "              precision    recall  f1-score   support\n",
      "\n",
      "   not happy       0.94      0.92      0.93       530\n",
      "       happy       0.63      0.70      0.66       107\n",
      "\n",
      "    accuracy                           0.88       637\n",
      "   macro avg       0.78      0.81      0.80       637\n",
      "weighted avg       0.89      0.88      0.88       637\n",
      "\n",
      "=== SVC Confusion Matrix ===\n"
     ]
    },
    {
     "data": {
      "image/png": "[encoded data removed]",
      "text/plain": [
       "<Figure size 600x400 with 2 Axes>"
      ]
     },
     "metadata": {},
     "output_type": "display_data"
    }
   ],
   "source": [
    "\n",
    "selector = ColumnTransformer(\n",
    "  [\n",
    "    (\"pick_happy\", \"passthrough\", selected_features)\n",
    "  ],\n",
    "  remainder=\"drop\"\n",
    ")\n",
    "weights = {0: 0.6, 1: 40}\n",
    "svc = SVC(\n",
    "  kernel=\"rbf\",\n",
    "  class_weight=\"balanced\",\n",
    "  probability=True,\n",
    "  random_state=42\n",
    ")\n",
    "\n",
    "happy_pipeline = Pipeline([\n",
    "  (\"select\", selector),\n",
    "  (\"svc\", svc)\n",
    "])\n",
    "\n",
    "happy_pipeline.fit(x_train, y_train['emotion'])\n",
    "y_pred_svc = happy_pipeline.predict(x_test)\n",
    "\n",
    "print(\"=== SVC Classification Report ===\")\n",
    "print(classification_report(y_test, y_pred_svc, target_names=[\"not happy\",\"happy\"]))\n",
    "\n",
    "print(\"=== SVC Confusion Matrix ===\")\n",
    "cm_svc = confusion_matrix(y_test, y_pred_svc)\n",
    "plt.figure(figsize=(6, 4))\n",
    "sns.heatmap(\n",
    "    cm_svc, \n",
    "    annot=True, \n",
    "    fmt=\"d\", \n",
    "    cmap=\"Blues\",\n",
    "    xticklabels=[f\"Not {\"happy\"}\", \"happy\"],\n",
    "    yticklabels=[f\"Not {\"happy\"}\", \"happy\"]\n",
    ")\n",
    "plt.xlabel(\"Predicted\")\n",
    "plt.ylabel(\"True\")\n",
    "plt.title(f\"Confusion Matrix – '{\"happy\"}' Binary Classifier\")\n",
    "plt.tight_layout()\n",
    "plt.show()"
   ]
  },
  {
   "cell_type": "code",
   "execution_count": 165,
   "id": "ec3112fa",
   "metadata": {},
   "outputs": [
    {
     "data": {
      "text/plain": [
       "['happy_svc_model.pkl']"
      ]
     },
     "execution_count": 165,
     "metadata": {},
     "output_type": "execute_result"
    }
   ],
   "source": [
    "joblib.dump(happy_pipeline, \"happy_svc_model.pkl\")"
   ]
  }
 ],
 "metadata": {
  "kernelspec": {
   "display_name": "Python 3 (ipykernel)",
   "language": "python",
   "name": "python3"
  },
  "language_info": {
   "codemirror_mode": {
    "name": "ipython",
    "version": 3
   },
   "file_extension": ".py",
   "mimetype": "text/x-python",
   "name": "python",
   "nbconvert_exporter": "python",
   "pygments_lexer": "ipython3",
   "version": "3.13.3"
  }
 },
 "nbformat": 4,
 "nbformat_minor": 5
}
