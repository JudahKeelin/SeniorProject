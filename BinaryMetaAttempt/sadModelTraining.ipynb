{
 "cells": [
  {
   "cell_type": "code",
   "execution_count": 69,
   "id": "0f718779",
   "metadata": {},
   "outputs": [],
   "source": [
    "import numpy as np\n",
    "import pandas as pd\n",
    "import joblib\n",
    "\n",
    "import matplotlib.pyplot as plt\n",
    "import seaborn as sns\n",
    "\n",
    "from sklearn.preprocessing import StandardScaler\n",
    "from sklearn.feature_selection import SelectKBest, mutual_info_classif, SelectFromModel\n",
    "from sklearn.linear_model import LogisticRegression\n",
    "from sklearn.pipeline import Pipeline\n",
    "from sklearn.model_selection import GridSearchCV, train_test_split\n",
    "from sklearn.metrics import confusion_matrix, classification_report, make_scorer, f1_score\n",
    "from imblearn.over_sampling import SMOTE\n",
    "from sklearn.compose import ColumnTransformer\n",
    "from sklearn.ensemble import ExtraTreesClassifier\n",
    "from sklearn.svm import SVC\n",
    "from sklearn.ensemble import RandomForestClassifier\n",
    "from sklearn.utils.class_weight import compute_class_weight\n",
    "from sklearn.neural_network import MLPClassifier\n",
    "from sklearn.model_selection import GridSearchCV\n",
    "from sklearn.neighbors import KNeighborsClassifier\n",
    "from sklearn.inspection import permutation_importance\n",
    "from sklearn.ensemble import StackingClassifier\n",
    "\n",
    "from xgboost import XGBClassifier"
   ]
  },
  {
   "cell_type": "code",
   "execution_count": 70,
   "id": "44d3ba53",
   "metadata": {},
   "outputs": [],
   "source": [
    "x_train = pd.read_csv('x_train_openSmile_emobase.csv')\n",
    "y_train = pd.read_csv('y_train_openSmile_emobase.csv')\n",
    "x_test = pd.read_csv('x_test_openSmile_emobase.csv')\n",
    "y_test = pd.read_csv('y_test_openSmile_emobase.csv')\n",
    "\n",
    "y_test['emotion'] = np.where(y_test['emotion'] == 'sad', 1, 0)\n",
    "y_train['emotion'] = np.where(y_train['emotion'] == 'sad', 1, 0)"
   ]
  },
  {
   "cell_type": "code",
   "execution_count": 71,
   "id": "85dc1207",
   "metadata": {},
   "outputs": [],
   "source": [
    "etc = ExtraTreesClassifier(\n",
    "    n_estimators=200,\n",
    "    random_state=42,\n",
    "    n_jobs=-1\n",
    ")\n",
    "\n",
    "etc.fit(x_train, y_train[\"emotion\"])\n",
    "\n",
    "importances = etc.feature_importances_\n",
    "\n",
    "sorted_importances = np.sort(importances)[::-1]\n",
    "cumulative_importances = np.cumsum(sorted_importances)\n",
    "threshold_index = np.searchsorted(cumulative_importances, 0.75)\n",
    "threshold_value = sorted_importances[threshold_index]\n",
    "\n",
    "selector_model = SelectFromModel(etc, threshold=threshold_value, prefit=True)\n",
    "\n",
    "selected_features = x_train.columns[selector_model.get_support()]"
   ]
  },
  {
   "cell_type": "code",
   "execution_count": 72,
   "id": "8ab6d234",
   "metadata": {},
   "outputs": [
    {
     "name": "stdout",
     "output_type": "stream",
     "text": [
      "\n",
      "Classification Report:\n",
      "              precision    recall  f1-score   support\n",
      "\n",
      "     not sad       0.93      0.96      0.94       533\n",
      "         sad       0.74      0.62      0.67       104\n",
      "\n",
      "    accuracy                           0.90       637\n",
      "   macro avg       0.83      0.79      0.81       637\n",
      "weighted avg       0.90      0.90      0.90       637\n",
      "\n"
     ]
    },
    {
     "data": {
      "image/png": "[encoded data removed]",
      "text/plain": [
       "<Figure size 600x400 with 2 Axes>"
      ]
     },
     "metadata": {},
     "output_type": "display_data"
    }
   ],
   "source": [
    "selector = ColumnTransformer(\n",
    "  [\n",
    "    (\"pick_sad\", \"passthrough\", selected_features)\n",
    "  ],\n",
    "  remainder=\"drop\"\n",
    ")\n",
    "\n",
    "mlp = MLPClassifier(\n",
    "    hidden_layer_sizes=(128, 64),\n",
    "    activation=\"relu\",\n",
    "    solver=\"adam\",\n",
    "    alpha=1e-3,\n",
    "    learning_rate_init=1e-3,\n",
    "    max_iter=1000,\n",
    "    random_state=42,\n",
    "    verbose=False\n",
    ")\n",
    "\n",
    "sad_pipeline = Pipeline([\n",
    "    (\"select\", selector),\n",
    "    (\"mlp\", mlp)\n",
    "])\n",
    "\n",
    "sad_pipeline.fit(x_train, y_train[\"emotion\"])\n",
    "y_pred = sad_pipeline.predict(x_test)\n",
    "\n",
    "\n",
    "print(\"\\nClassification Report:\")\n",
    "print(classification_report(y_test, y_pred, target_names=['not sad', 'sad']))\n",
    "\n",
    "# Compute confusion matrix\n",
    "cm = confusion_matrix(y_test, y_pred)\n",
    "\n",
    "# Plot\n",
    "plt.figure(figsize=(6, 4))\n",
    "sns.heatmap(\n",
    "    cm, \n",
    "    annot=True, \n",
    "    fmt=\"d\", \n",
    "    cmap=\"Blues\",\n",
    "    xticklabels=[f\"Not sad\", \"sad\"],\n",
    "    yticklabels=[f\"Not sad\", \"sad\"]\n",
    ")\n",
    "plt.xlabel(\"Predicted\")\n",
    "plt.ylabel(\"True\")\n",
    "plt.title(f\"Confusion Matrix - 'sad' Binary Classifier\")\n",
    "plt.tight_layout()\n",
    "plt.show()"
   ]
  },
  {
   "cell_type": "code",
   "execution_count": 73,
   "id": "e54995b3",
   "metadata": {},
   "outputs": [
    {
     "data": {
      "text/plain": [
       "['sad_mlp_model.pkl']"
      ]
     },
     "execution_count": 73,
     "metadata": {},
     "output_type": "execute_result"
    }
   ],
   "source": [
    "joblib.dump(sad_pipeline, \"sad_mlp_model.pkl\")"
   ]
  }
 ],
 "metadata": {
  "kernelspec": {
   "display_name": "Python 3 (ipykernel)",
   "language": "python",
   "name": "python3"
  },
  "language_info": {
   "codemirror_mode": {
    "name": "ipython",
    "version": 3
   },
   "file_extension": ".py",
   "mimetype": "text/x-python",
   "name": "python",
   "nbconvert_exporter": "python",
   "pygments_lexer": "ipython3",
   "version": "3.13.3"
  }
 },
 "nbformat": 4,
 "nbformat_minor": 5
}
