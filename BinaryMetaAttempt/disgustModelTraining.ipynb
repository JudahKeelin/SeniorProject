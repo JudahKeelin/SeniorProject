{
 "cells": [
  {
   "cell_type": "code",
   "execution_count": 17,
   "id": "1214a867",
   "metadata": {},
   "outputs": [],
   "source": [
    "import numpy as np\n",
    "import pandas as pd\n",
    "import joblib\n",
    "\n",
    "import matplotlib.pyplot as plt\n",
    "import seaborn as sns\n",
    "\n",
    "from sklearn.preprocessing import StandardScaler\n",
    "from sklearn.feature_selection import SelectKBest, mutual_info_classif, SelectFromModel\n",
    "from sklearn.linear_model import LogisticRegression\n",
    "from sklearn.pipeline import Pipeline\n",
    "from sklearn.model_selection import GridSearchCV, train_test_split\n",
    "from sklearn.metrics import confusion_matrix, classification_report, make_scorer, f1_score\n",
    "from imblearn.over_sampling import SMOTE\n",
    "from sklearn.compose import ColumnTransformer\n",
    "from sklearn.ensemble import ExtraTreesClassifier\n",
    "from sklearn.svm import SVC\n",
    "from sklearn.ensemble import RandomForestClassifier\n",
    "from sklearn.utils.class_weight import compute_class_weight\n",
    "from sklearn.neural_network import MLPClassifier\n",
    "from sklearn.model_selection import GridSearchCV\n",
    "from sklearn.neighbors import KNeighborsClassifier\n",
    "from sklearn.inspection import permutation_importance\n",
    "from sklearn.ensemble import StackingClassifier\n",
    "\n",
    "from xgboost import XGBClassifier"
   ]
  },
  {
   "cell_type": "code",
   "execution_count": 18,
   "id": "ca3389f6",
   "metadata": {},
   "outputs": [],
   "source": [
    "x_train = pd.read_csv('x_train_openSmile_emobase.csv')\n",
    "y_train = pd.read_csv('y_train_openSmile_emobase.csv')\n",
    "x_test = pd.read_csv('x_test_openSmile_emobase.csv')\n",
    "y_test = pd.read_csv('y_test_openSmile_emobase.csv')\n",
    "\n",
    "y_test['emotion'] = np.where(y_test['emotion'] == 'disgust', 1, 0)\n",
    "y_train['emotion'] = np.where(y_train['emotion'] == 'disgust', 1, 0)"
   ]
  },
  {
   "cell_type": "code",
   "execution_count": 19,
   "id": "cf3b81c4",
   "metadata": {},
   "outputs": [],
   "source": [
    "etc = ExtraTreesClassifier(\n",
    "    n_estimators=200,\n",
    "    random_state=42,\n",
    "    n_jobs=-1\n",
    ")\n",
    "\n",
    "etc.fit(x_train, y_train[\"emotion\"])\n",
    "\n",
    "importances = etc.feature_importances_\n",
    "\n",
    "sorted_importances = np.sort(importances)[::-1]\n",
    "cumulative_importances = np.cumsum(sorted_importances)\n",
    "threshold_index = np.searchsorted(cumulative_importances, 0.8)\n",
    "threshold_value = sorted_importances[threshold_index]\n",
    "\n",
    "selector_model = SelectFromModel(etc, threshold=threshold_value, prefit=True)\n",
    "\n",
    "selected_features = x_train.columns[selector_model.get_support()]"
   ]
  },
  {
   "cell_type": "code",
   "execution_count": null,
   "id": "148e5744",
   "metadata": {},
   "outputs": [
    {
     "name": "stdout",
     "output_type": "stream",
     "text": [
      "\n",
      "Classification Report:\n",
      "              precision    recall  f1-score   support\n",
      "\n",
      " not disgust       0.95      0.96      0.95       539\n",
      "     disgust       0.75      0.72      0.74        98\n",
      "\n",
      "    accuracy                           0.92       637\n",
      "   macro avg       0.85      0.84      0.84       637\n",
      "weighted avg       0.92      0.92      0.92       637\n",
      "\n"
     ]
    },
    {
     "data": {
      "image/png": "[encoded data removed]",
      "text/plain": [
       "<Figure size 600x400 with 2 Axes>"
      ]
     },
     "metadata": {},
     "output_type": "display_data"
    }
   ],
   "source": [
    "selector = ColumnTransformer(\n",
    "  [\n",
    "    (\"pick_disgust\", \"passthrough\", selected_features)\n",
    "  ],\n",
    "  remainder=\"drop\"\n",
    ")\n",
    "\n",
    "svc = SVC(\n",
    "    kernel=\"rbf\",\n",
    "    class_weight={0: 0.95, 1: 20},\n",
    "    probability=True,\n",
    "    random_state=42\n",
    ")\n",
    "\n",
    "disgust_pipeline = Pipeline([\n",
    "    (\"select\", selector),\n",
    "    (\"scv\", svc)\n",
    "])\n",
    "\n",
    "disgust_pipeline.fit(x_train, y_train[\"emotion\"])\n",
    "y_pred = disgust_pipeline.predict(x_test)\n",
    "\n",
    "\n",
    "print(\"\\nClassification Report:\")\n",
    "print(classification_report(y_test, y_pred, target_names=['not disgust', 'disgust']))\n",
    "\n",
    "# Compute confusion matrix\n",
    "cm = confusion_matrix(y_test, y_pred)\n",
    "\n",
    "# Plot\n",
    "plt.figure(figsize=(6, 4))\n",
    "sns.heatmap(\n",
    "    cm, \n",
    "    annot=True, \n",
    "    fmt=\"d\", \n",
    "    cmap=\"Blues\",\n",
    "    xticklabels=[f\"Not disgust\", \"disgust\"],\n",
    "    yticklabels=[f\"Not disgust\", \"disgust\"]\n",
    ")\n",
    "plt.xlabel(\"Predicted\")\n",
    "plt.ylabel(\"True\")\n",
    "plt.title(f\"Confusion Matrix - 'disgust' Binary Classifier\")\n",
    "plt.tight_layout()\n",
    "plt.show()"
   ]
  },
  {
   "cell_type": "code",
   "execution_count": 21,
   "id": "70740e9b",
   "metadata": {},
   "outputs": [
    {
     "data": {
      "text/plain": [
       "['disgust_svc_model.pkl']"
      ]
     },
     "execution_count": 21,
     "metadata": {},
     "output_type": "execute_result"
    }
   ],
   "source": [
    "joblib.dump(disgust_pipeline, 'disgust_svc_model.pkl')"
   ]
  }
 ],
 "metadata": {
  "kernelspec": {
   "display_name": "Python 3 (ipykernel)",
   "language": "python",
   "name": "python3"
  },
  "language_info": {
   "codemirror_mode": {
    "name": "ipython",
    "version": 3
   },
   "file_extension": ".py",
   "mimetype": "text/x-python",
   "name": "python",
   "nbconvert_exporter": "python",
   "pygments_lexer": "ipython3",
   "version": "3.13.3"
  }
 },
 "nbformat": 4,
 "nbformat_minor": 5
}
